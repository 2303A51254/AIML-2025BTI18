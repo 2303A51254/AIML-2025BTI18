{
  "nbformat": 4,
  "nbformat_minor": 0,
  "metadata": {
    "colab": {
      "provenance": [],
      "authorship_tag": "ABX9TyOJXontxsgDuh5PzA1ZD8Lu",
      "include_colab_link": true
    },
    "kernelspec": {
      "name": "python3",
      "display_name": "Python 3"
    },
    "language_info": {
      "name": "python"
    }
  },
  "cells": [
    {
      "cell_type": "markdown",
      "metadata": {
        "id": "view-in-github",
        "colab_type": "text"
      },
      "source": [
        "<a href=\"https://colab.research.google.com/github/2303A51254/AIML-2025BTI18/blob/main/assignment2.ipynb\" target=\"_parent\"><img src=\"https://colab.research.google.com/assets/colab-badge.svg\" alt=\"Open In Colab\"/></a>"
      ]
    },
    {
      "cell_type": "code",
      "execution_count": 5,
      "metadata": {
        "colab": {
          "base_uri": "https://localhost:8080/"
        },
        "id": "F5l6R9l6un90",
        "outputId": "e81c0398-88b0-4c94-cda1-aadc8bebe339"
      },
      "outputs": [
        {
          "output_type": "stream",
          "name": "stdout",
          "text": [
            "the adjacency list representing the graph is:\n",
            "{0: [1, 2, 3], 1: [0, 2], 2: [1, 3, 5], 3: [0, 2, 4], 4: [3, 5, 7], 5: [2, 4, 6, 7], 6: [5, 7], 7: []}\n",
            " BFS traversal of graph with source 0 is;\n",
            "0-->1-->2-->3-->5-->4-->6-->7-->\n",
            "\n",
            " BFS traversal of graph with source 0 is;\n",
            "1-->0-->2-->3-->5-->4-->6-->7-->"
          ]
        }
      ],
      "source": [
        "from queue import Queue\n",
        "graph ={0:[1,2,3],\n",
        "        1:[0,2],\n",
        "        2:[1,3,5],\n",
        "        3:[0,2,4],\n",
        "        4:[3,5,7],\n",
        "        5:[2,4,6,7],\n",
        "        6:[5,7],\n",
        "        7:[]}\n",
        "print(\"the adjacency list representing the graph is:\")\n",
        "print(graph)\n",
        "def bfs(graph,source):\n",
        "   Q = Queue()\n",
        "   visited_vertices=set()\n",
        "   Q.put(source)\n",
        "   visited_vertices.update({source})\n",
        "   while not Q.empty():\n",
        "    #the queue is empty\n",
        "    vertex=Q.get()\n",
        "    print(vertex,end=\"-->\")\n",
        "    for u in graph[vertex]:\n",
        "      if u not in visited_vertices:\n",
        "        Q.put(u)\n",
        "        visited_vertices.update({u})\n",
        "print(\" BFS traversal of graph with source 0 is;\")\n",
        "bfs(graph,0)\n",
        "print(\"\\n\")\n",
        "print(\" BFS traversal of graph with source 0 is;\")\n",
        "bfs(graph,1)"
      ]
    },
    {
      "cell_type": "code",
      "source": [
        "graph1 = {\n",
        "    'A':['B','C','G'],\n",
        "    'B':['A'],\n",
        "    'C':['A','D','F',],\n",
        "    'D':['A','C','E','H'],\n",
        "    'E':['D','H','F'],\n",
        "    'F':['C','E'],\n",
        "    'G':['A','D','H'],\n",
        "    'H':['D','E','G']\n",
        "}\n",
        "def dfs(graph,node, visited):\n",
        "  if node not in visited:\n",
        "    visited.append(node)\n",
        "    for k in graph[node]:\n",
        "      dfs(graph,k,visited)\n",
        "  return visited\n",
        "visited = dfs(graph1,'B', [])\n",
        "print(visited)"
      ],
      "metadata": {
        "colab": {
          "base_uri": "https://localhost:8080/"
        },
        "id": "tEpf0p6s7Jm3",
        "outputId": "c43d49e6-8ea6-47e8-b881-2141d07a2fb0"
      },
      "execution_count": 6,
      "outputs": [
        {
          "output_type": "stream",
          "name": "stdout",
          "text": [
            "['B', 'A', 'C', 'D', 'E', 'H', 'G', 'F']\n"
          ]
        }
      ]
    },
    {
      "cell_type": "code",
      "source": [
        "from copy import deepcopy\n",
        "import numpy as np\n",
        "import time\n",
        "def bestsolution(state):\n",
        "    solution_path = np.array([], int).reshape(-1, 9)\n",
        "    index = len(state) - 1\n",
        "    while index != -1:\n",
        "        solution_path = np.insert(solution_path, 0, state[index]['puzzle'], 0)\n",
        "        index = state[index]['parent']\n",
        "    return solution_path.reshape(-1, 3, 3)\n",
        "def is_unique_iteration(checkarray):\n",
        "    unique_set = []\n",
        "    for item in unique_set:\n",
        "        for checkarray in item:\n",
        "            return True\n",
        "        else:\n",
        "            return False\n",
        "def misplaced_tiles(puzzle, goal):\n",
        "    mismatch_count = np.sum(puzzle != goal) - 1\n",
        "    return mismatch_count if mismatch_count > 0 else 0\n",
        "def get_positions(puzzle):\n",
        "    positions = np.array(range(9))\n",
        "    for i, val in enumerate(puzzle):\n",
        "        positions[val] = i\n",
        "    return positions\n",
        "def solve_puzzle(puzzle, goal):\n",
        "    moves = np.array([\n",
        "        ('up', [0, 1, 2], -3),\n",
        "        ('down', [6, 7, 8], 3),\n",
        "        ('left', [0, 3, 6], -1),\n",
        "        ('right', [2, 5, 8], 1)],\n",
        "        dtype=[('move', str, 1), ('position', list), ('head', int)]\n",
        "    )\n",
        "    state_type = [('puzzle', list), ('parent', int), ('gn', int), ('hn', int)]\n",
        "    goal_positions = get_positions(goal)\n",
        "    parent_index = -1\n",
        "    gn = 0\n",
        "    hn = misplaced_tiles(get_positions(puzzle), goal_positions)\n",
        "    state = np.array([(puzzle, parent_index, gn, hn)], state_type)\n",
        "    priority_queue = np.array([(0, hn)], dtype=[('position', int), ('fn', int)])\n",
        "    while True:\n",
        "        priority_queue = np.sort(priority_queue, kind='mergesort', order=['fn', 'position'])\n",
        "        position, fn = priority_queue[0]\n",
        "        priority_queue = np.delete(priority_queue, 0, 0)\n",
        "        puzzle, parent_index, gn, hn = state[position]\n",
        "        puzzle = np.array(puzzle)\n",
        "        blank_index = int(np.where(puzzle == 0)[0])\n",
        "        gn += 1\n",
        "        start_time = time.time()\n",
        "        for move in moves:\n",
        "            if blank_index not in move['position']:\n",
        "                new_state = deepcopy(puzzle)\n",
        "                new_state[blank_index], new_state[blank_index + move['head']] = new_state[blank_index + move['head']], new_state[blank_index]\n",
        "                if not (np.all(list(state['puzzle']) == new_state, 1)).any():\n",
        "                    if (time.time() - start_time) > 2:\n",
        "                        print(\"The 8 puzzle is unsolvable\")\n",
        "                        return state, len(priority_queue)\n",
        "                    hn = misplaced_tiles(get_positions(new_state), goal_positions)\n",
        "                    new_state_entry = np.array([(new_state, position, gn, hn)], state_type)\n",
        "                    state = np.append(state, new_state_entry, 0)\n",
        "\n",
        "                    fn = gn + hn\n",
        "                    priority_queue_entry = np.array([(len(state) - 1, fn)], dtype=[('position', int), ('fn', int)])\n",
        "                    priority_queue = np.append(priority_queue, priority_queue_entry, 0)\n",
        "\n",
        "                    if np.array_equal(new_state, goal):\n",
        "                        print(\"The 8 puzzle is solvable\")\n",
        "                        return state, len(priority_queue)\n",
        "    return state, len(priority_queue)\n",
        "initial_puzzle = [2, 8, 3, 1, 6, 4, 7, 0, 5]\n",
        "goal_state = [1, 2, 3, 8, 0, 4, 7, 6, 5]\n",
        "state, visited = solve_puzzle(initial_puzzle, goal_state)\n",
        "best_path = bestsolution(state)\n",
        "print(str(best_path).replace('[', ' ').replace(']', ''))\n",
        "total_moves = len(best_path) - 1\n",
        "print('\\nSteps to reach goal:', total_moves)\n",
        "visited_nodes = len(state) - visited\n",
        "print('Total nodes visited:', visited_nodes, \"\\n\")"
      ],
      "metadata": {
        "colab": {
          "base_uri": "https://localhost:8080/"
        },
        "id": "qZU6RetH-A11",
        "outputId": "1c6df01f-a5ca-4cc7-cd30-b6be3366b297"
      },
      "execution_count": 7,
      "outputs": [
        {
          "output_type": "stream",
          "name": "stdout",
          "text": [
            "The 8 puzzle is solvable\n",
            "   2 8 3\n",
            "   1 6 4\n",
            "   7 0 5\n",
            "\n",
            "   2 8 3\n",
            "   1 0 4\n",
            "   7 6 5\n",
            "\n",
            "   2 0 3\n",
            "   1 8 4\n",
            "   7 6 5\n",
            "\n",
            "   0 2 3\n",
            "   1 8 4\n",
            "   7 6 5\n",
            "\n",
            "   1 2 3\n",
            "   0 8 4\n",
            "   7 6 5\n",
            "\n",
            "   1 2 3\n",
            "   8 0 4\n",
            "   7 6 5\n",
            "\n",
            "Steps to reach goal: 5\n",
            "Total nodes visited: 6 \n",
            "\n"
          ]
        },
        {
          "output_type": "stream",
          "name": "stderr",
          "text": [
            "<ipython-input-7-191952a147e3>:57: DeprecationWarning: Conversion of an array with ndim > 0 to a scalar is deprecated, and will error in future. Ensure you extract a single element from your array before performing this operation. (Deprecated NumPy 1.25.)\n",
            "  blank_index = int(np.where(puzzle == 0)[0])\n"
          ]
        }
      ]
    }
  ]
}